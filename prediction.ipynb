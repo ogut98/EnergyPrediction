{
 "cells": [
  {
   "cell_type": "code",
   "execution_count": 16,
   "metadata": {},
   "outputs": [
    {
     "name": "stdout",
     "output_type": "stream",
     "text": [
      "Validation MAPE: 9.58%\n"
     ]
    }
   ],
   "source": [
    "import pandas as pd\n",
    "import numpy as np\n",
    "from sklearn.ensemble import RandomForestRegressor\n",
    "from sklearn.model_selection import train_test_split\n",
    "\n",
    "# Load the training data\n",
    "train_df = pd.read_csv('train.csv')\n",
    "train_df['Tarih'] = pd.to_datetime(train_df['Tarih'], format='%d.%m.%Y %H:%M')\n",
    "train_df['month'] = train_df['Tarih'].dt.month\n",
    "train_df['day'] = train_df['Tarih'].dt.day\n",
    "train_df['hour'] = train_df['Tarih'].dt.hour\n",
    "train_df = train_df.drop(['Tarih'], axis=1)\n",
    "\n",
    "# Load the MED data\n",
    "med_df = pd.read_csv('med.csv')\n",
    "med_df['Tarih'] = pd.to_datetime(med_df['Tarih'], format='%Y-%m-%d')\n",
    "\n",
    "# Set a flag column to indicate MED days\n",
    "train_df['med_flag'] = np.where(train_df['day'].isin(med_df['Tarih'].dt.day.unique()), 1, 0)\n",
    "\n",
    "# Split the data into training and validation sets\n",
    "X_train, X_val, y_train, y_val = train_test_split(train_df.drop(['Energy'], axis=1), train_df['Energy'], test_size=0.2, random_state=42)\n",
    "\n",
    "# Train a random forest regressor on the training data\n",
    "rf = RandomForestRegressor(n_estimators=100, random_state=42)\n",
    "rf.fit(X_train, y_train)\n",
    "\n",
    "# Make predictions on the validation data\n",
    "y_pred = rf.predict(X_val)\n",
    "\n",
    "# Calculate the mean absolute percentage error (MAPE)\n",
    "mape = np.mean(np.abs((y_val - y_pred) / y_val)) * 100\n",
    "print(f\"Validation MAPE: {mape:.2f}%\")\n",
    "\n",
    "# Load the sample submission data\n",
    "sub_df = pd.read_csv('sample_submission.csv')\n",
    "sub_df['Tarih'] = pd.to_datetime(sub_df['Tarih'], format='%d.%m.%Y %H:%M')\n",
    "sub_df['month'] = sub_df['Tarih'].dt.month\n",
    "sub_df['day'] = sub_df['Tarih'].dt.day\n",
    "sub_df['hour'] = sub_df['Tarih'].dt.hour\n",
    "sub_df = sub_df.drop(['Energy'], axis=1)\n",
    "\n",
    "# Add a flag column to indicate MED days\n",
    "sub_df['med_flag'] = np.where(sub_df['day'].isin(med_df['Tarih'].dt.day.unique()), 1, 0)\n",
    "\n",
    "# Make predictions on the sample submission data\n",
    "sub_df['Energy'] = rf.predict(sub_df.drop(['Tarih'], axis=1))\n",
    "\n",
    "# Save the predictions to a CSV file\n",
    "sub_df.to_csv('my_submission.csv', index=False)\n"
   ]
  }
 ],
 "metadata": {
  "kernelspec": {
   "display_name": "base",
   "language": "python",
   "name": "python3"
  },
  "language_info": {
   "codemirror_mode": {
    "name": "ipython",
    "version": 3
   },
   "file_extension": ".py",
   "mimetype": "text/x-python",
   "name": "python",
   "nbconvert_exporter": "python",
   "pygments_lexer": "ipython3",
   "version": "3.10.9"
  },
  "orig_nbformat": 4
 },
 "nbformat": 4,
 "nbformat_minor": 2
}
